{
 "cells": [
  {
   "cell_type": "code",
   "execution_count": 1,
   "metadata": {},
   "outputs": [],
   "source": [
    "import re\n",
    "import csv\n",
    "import pandas as pd"
   ]
  },
  {
   "cell_type": "code",
   "execution_count": 29,
   "metadata": {},
   "outputs": [],
   "source": [
    "### CONSTANTS ###\n",
    "DATA_LINE = 15\n",
    "ORIGINAL_FILENAME = \"wine_quality.csv\"\n",
    "FILENAME = \"wine_quality_cleaned.csv\""
   ]
  },
  {
   "cell_type": "code",
   "execution_count": 28,
   "metadata": {},
   "outputs": [],
   "source": [
    "### CLEAN CSV FILE - ONLY RUN ONCE TO GET CLEANED CSV ###\n",
    "file = open('{}'.format(ORIGINAL_FILENAME), \"r\")\n",
    "\n",
    "fieldnames = []\n",
    "for i in range(0, DATA_LINE-1):\n",
    "    line = file.readline()\n",
    "    m = re.search('(?<=@attribute )(.+)(?= \\w+)', line)\n",
    "    if (m):\n",
    "        fieldnames.append(m.group(0))\n",
    "\n",
    "with open('{}'.format(FILENAME), \"w\", newline=\"\") as clean_csv:\n",
    "    clean_csv.write(','.join(fieldnames) + \"\\n\")\n",
    "    for line in file:\n",
    "        clean_csv.write(file.readline())\n",
    "\n",
    "file.close()"
   ]
  },
  {
   "cell_type": "code",
   "execution_count": 2,
   "metadata": {},
   "outputs": [],
   "source": [
    "data = pd.read_csv(\"./wine_quality.csv\",sep=\"delimiter\",header=None,engine='python')\n",
    "data"
   ]
  },
  {
   "cell_type": "code",
   "execution_count": null,
   "metadata": {},
   "outputs": [],
   "source": []
  }
 ],
 "metadata": {
  "kernelspec": {
   "display_name": "Python 3",
   "language": "python",
   "name": "python3"
  },
  "language_info": {
   "codemirror_mode": {
    "name": "ipython",
    "version": 3
   },
   "file_extension": ".py",
   "mimetype": "text/x-python",
   "name": "python",
   "nbconvert_exporter": "python",
   "pygments_lexer": "ipython3",
   "version": "3.8.1"
  }
 },
 "nbformat": 4,
 "nbformat_minor": 2
}
