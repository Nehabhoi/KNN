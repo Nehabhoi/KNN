{
 "cells": [
  {
   "cell_type": "code",
   "execution_count": 7,
   "metadata": {},
   "outputs": [],
   "source": [
    "## IMPORTS ##\n",
    "import re\n",
    "import csv\n",
    "import pandas as pd\n",
    "import numpy as np\n",
    "import sys\n",
    "\n",
    "from sklearn import metrics\n",
    "from sklearn.metrics import classification_report, confusion_matrix\n",
    "from sklearn.model_selection import train_test_split\n",
    "from sklearn.model_selection import cross_val_score\n",
    "from sklearn.model_selection import GridSearchCV\n",
    "from sklearn.neighbors import KNeighborsClassifier"
   ]
  },
  {
   "cell_type": "code",
   "execution_count": 8,
   "metadata": {},
   "outputs": [],
   "source": [
    "### CONSTANTS ###\n",
    "DATA_LINE = 15\n",
    "ORIGINAL_FILENAME = \"wine_quality.csv\"\n",
    "CLEANED_FILENAME = \"wine_quality_cleaned2.csv\"\n",
    "\n",
    "### SET YOUR K, T, R1, R2 ###\n",
    "K = 5\n",
    "T = 5\n",
    "R1 = 1\n",
    "R2 = 25"
   ]
  },
  {
   "cell_type": "code",
   "execution_count": 3,
   "metadata": {},
   "outputs": [],
   "source": [
    "### CLEAN CSV FILE - ONLY RUN ONCE TO GET CLEANED CSV ###\n",
    "# file = open('{}'.format(ORIGINAL_FILENAME), \"r\")\n",
    "\n",
    "# fieldnames = []\n",
    "# for i in range(0, DATA_LINE-1):\n",
    "#     line = file.readline()\n",
    "#     m = re.search('(?<=@attribute )(.+)(?= \\w+)', line)\n",
    "#     if (m):\n",
    "#         fieldnames.append(m.group(0))\n",
    "\n",
    "# with open('{}'.format(CLEANED_FILENAME), \"w\", newline=\"\") as clean_csv:\n",
    "#     clean_csv.write(','.join(fieldnames) + \"\\n\")\n",
    "#     for line in file:\n",
    "#         clean_csv.write(file.readline())\n",
    "\n",
    "# file.close()"
   ]
  },
  {
   "cell_type": "code",
   "execution_count": 9,
   "metadata": {},
   "outputs": [
    {
     "data": {
      "text/html": [
       "<div>\n",
       "<style scoped>\n",
       "    .dataframe tbody tr th:only-of-type {\n",
       "        vertical-align: middle;\n",
       "    }\n",
       "\n",
       "    .dataframe tbody tr th {\n",
       "        vertical-align: top;\n",
       "    }\n",
       "\n",
       "    .dataframe thead th {\n",
       "        text-align: right;\n",
       "    }\n",
       "</style>\n",
       "<table border=\"1\" class=\"dataframe\">\n",
       "  <thead>\n",
       "    <tr style=\"text-align: right;\">\n",
       "      <th></th>\n",
       "      <th>fixedacid</th>\n",
       "      <th>volacid</th>\n",
       "      <th>citricacid</th>\n",
       "      <th>residualsugar</th>\n",
       "      <th>chlorides</th>\n",
       "      <th>freesulfur</th>\n",
       "      <th>totalsulfur</th>\n",
       "      <th>density</th>\n",
       "      <th>pH</th>\n",
       "      <th>sulphates</th>\n",
       "      <th>alcohol</th>\n",
       "      <th>quality</th>\n",
       "    </tr>\n",
       "  </thead>\n",
       "  <tbody>\n",
       "    <tr>\n",
       "      <td>0</td>\n",
       "      <td>7.2</td>\n",
       "      <td>0.23</td>\n",
       "      <td>0.32</td>\n",
       "      <td>8.5</td>\n",
       "      <td>0.058</td>\n",
       "      <td>47.0</td>\n",
       "      <td>186.0</td>\n",
       "      <td>0.99560</td>\n",
       "      <td>3.19</td>\n",
       "      <td>0.40</td>\n",
       "      <td>9.90</td>\n",
       "      <td>6</td>\n",
       "    </tr>\n",
       "    <tr>\n",
       "      <td>1</td>\n",
       "      <td>7.0</td>\n",
       "      <td>0.27</td>\n",
       "      <td>0.36</td>\n",
       "      <td>20.7</td>\n",
       "      <td>0.045</td>\n",
       "      <td>45.0</td>\n",
       "      <td>170.0</td>\n",
       "      <td>1.00100</td>\n",
       "      <td>3.00</td>\n",
       "      <td>0.45</td>\n",
       "      <td>8.80</td>\n",
       "      <td>6</td>\n",
       "    </tr>\n",
       "    <tr>\n",
       "      <td>2</td>\n",
       "      <td>8.1</td>\n",
       "      <td>0.22</td>\n",
       "      <td>0.43</td>\n",
       "      <td>1.5</td>\n",
       "      <td>0.044</td>\n",
       "      <td>28.0</td>\n",
       "      <td>129.0</td>\n",
       "      <td>0.99380</td>\n",
       "      <td>3.22</td>\n",
       "      <td>0.45</td>\n",
       "      <td>11.00</td>\n",
       "      <td>6</td>\n",
       "    </tr>\n",
       "    <tr>\n",
       "      <td>3</td>\n",
       "      <td>8.6</td>\n",
       "      <td>0.23</td>\n",
       "      <td>0.40</td>\n",
       "      <td>4.2</td>\n",
       "      <td>0.035</td>\n",
       "      <td>17.0</td>\n",
       "      <td>109.0</td>\n",
       "      <td>0.99470</td>\n",
       "      <td>3.14</td>\n",
       "      <td>0.53</td>\n",
       "      <td>9.70</td>\n",
       "      <td>5</td>\n",
       "    </tr>\n",
       "    <tr>\n",
       "      <td>4</td>\n",
       "      <td>6.6</td>\n",
       "      <td>0.16</td>\n",
       "      <td>0.40</td>\n",
       "      <td>1.5</td>\n",
       "      <td>0.044</td>\n",
       "      <td>48.0</td>\n",
       "      <td>143.0</td>\n",
       "      <td>0.99120</td>\n",
       "      <td>3.54</td>\n",
       "      <td>0.52</td>\n",
       "      <td>12.40</td>\n",
       "      <td>7</td>\n",
       "    </tr>\n",
       "    <tr>\n",
       "      <td>...</td>\n",
       "      <td>...</td>\n",
       "      <td>...</td>\n",
       "      <td>...</td>\n",
       "      <td>...</td>\n",
       "      <td>...</td>\n",
       "      <td>...</td>\n",
       "      <td>...</td>\n",
       "      <td>...</td>\n",
       "      <td>...</td>\n",
       "      <td>...</td>\n",
       "      <td>...</td>\n",
       "      <td>...</td>\n",
       "    </tr>\n",
       "    <tr>\n",
       "      <td>2445</td>\n",
       "      <td>6.5</td>\n",
       "      <td>0.33</td>\n",
       "      <td>0.38</td>\n",
       "      <td>8.3</td>\n",
       "      <td>0.035</td>\n",
       "      <td>60.0</td>\n",
       "      <td>148.0</td>\n",
       "      <td>0.98964</td>\n",
       "      <td>3.27</td>\n",
       "      <td>0.35</td>\n",
       "      <td>11.50</td>\n",
       "      <td>11</td>\n",
       "    </tr>\n",
       "    <tr>\n",
       "      <td>2446</td>\n",
       "      <td>6.6</td>\n",
       "      <td>0.34</td>\n",
       "      <td>0.40</td>\n",
       "      <td>8.1</td>\n",
       "      <td>0.046</td>\n",
       "      <td>68.0</td>\n",
       "      <td>170.0</td>\n",
       "      <td>0.99494</td>\n",
       "      <td>3.15</td>\n",
       "      <td>0.50</td>\n",
       "      <td>9.55</td>\n",
       "      <td>6</td>\n",
       "    </tr>\n",
       "    <tr>\n",
       "      <td>2447</td>\n",
       "      <td>6.8</td>\n",
       "      <td>0.22</td>\n",
       "      <td>0.36</td>\n",
       "      <td>1.2</td>\n",
       "      <td>0.052</td>\n",
       "      <td>38.0</td>\n",
       "      <td>127.0</td>\n",
       "      <td>0.99330</td>\n",
       "      <td>3.04</td>\n",
       "      <td>0.54</td>\n",
       "      <td>9.20</td>\n",
       "      <td>5</td>\n",
       "    </tr>\n",
       "    <tr>\n",
       "      <td>2448</td>\n",
       "      <td>6.1</td>\n",
       "      <td>0.34</td>\n",
       "      <td>0.29</td>\n",
       "      <td>2.2</td>\n",
       "      <td>0.036</td>\n",
       "      <td>25.0</td>\n",
       "      <td>100.0</td>\n",
       "      <td>0.98938</td>\n",
       "      <td>3.06</td>\n",
       "      <td>0.44</td>\n",
       "      <td>11.80</td>\n",
       "      <td>6</td>\n",
       "    </tr>\n",
       "    <tr>\n",
       "      <td>2449</td>\n",
       "      <td>6.5</td>\n",
       "      <td>0.23</td>\n",
       "      <td>0.38</td>\n",
       "      <td>1.3</td>\n",
       "      <td>0.032</td>\n",
       "      <td>29.0</td>\n",
       "      <td>112.0</td>\n",
       "      <td>0.99298</td>\n",
       "      <td>3.29</td>\n",
       "      <td>0.54</td>\n",
       "      <td>9.70</td>\n",
       "      <td>5</td>\n",
       "    </tr>\n",
       "  </tbody>\n",
       "</table>\n",
       "<p>2450 rows × 12 columns</p>\n",
       "</div>"
      ],
      "text/plain": [
       "      fixedacid  volacid  citricacid  residualsugar  chlorides  freesulfur  \\\n",
       "0           7.2     0.23        0.32            8.5      0.058        47.0   \n",
       "1           7.0     0.27        0.36           20.7      0.045        45.0   \n",
       "2           8.1     0.22        0.43            1.5      0.044        28.0   \n",
       "3           8.6     0.23        0.40            4.2      0.035        17.0   \n",
       "4           6.6     0.16        0.40            1.5      0.044        48.0   \n",
       "...         ...      ...         ...            ...        ...         ...   \n",
       "2445        6.5     0.33        0.38            8.3      0.035        60.0   \n",
       "2446        6.6     0.34        0.40            8.1      0.046        68.0   \n",
       "2447        6.8     0.22        0.36            1.2      0.052        38.0   \n",
       "2448        6.1     0.34        0.29            2.2      0.036        25.0   \n",
       "2449        6.5     0.23        0.38            1.3      0.032        29.0   \n",
       "\n",
       "      totalsulfur  density    pH  sulphates  alcohol  quality  \n",
       "0           186.0  0.99560  3.19       0.40     9.90        6  \n",
       "1           170.0  1.00100  3.00       0.45     8.80        6  \n",
       "2           129.0  0.99380  3.22       0.45    11.00        6  \n",
       "3           109.0  0.99470  3.14       0.53     9.70        5  \n",
       "4           143.0  0.99120  3.54       0.52    12.40        7  \n",
       "...           ...      ...   ...        ...      ...      ...  \n",
       "2445        148.0  0.98964  3.27       0.35    11.50       11  \n",
       "2446        170.0  0.99494  3.15       0.50     9.55        6  \n",
       "2447        127.0  0.99330  3.04       0.54     9.20        5  \n",
       "2448        100.0  0.98938  3.06       0.44    11.80        6  \n",
       "2449        112.0  0.99298  3.29       0.54     9.70        5  \n",
       "\n",
       "[2450 rows x 12 columns]"
      ]
     },
     "execution_count": 9,
     "metadata": {},
     "output_type": "execute_result"
    }
   ],
   "source": [
    "# READ DATA #\n",
    "data = pd.read_csv(\"wine_quality_cleaned.csv\")\n",
    "data"
   ]
  },
  {
   "cell_type": "code",
   "execution_count": 25,
   "metadata": {},
   "outputs": [
    {
     "name": "stdout",
     "output_type": "stream",
     "text": [
      "Class:\n",
      " [ 6  5  7  8  4  3  9  0 11]\n",
      "[[ 7.2   0.23  0.32 ...  3.19  0.4   9.9 ]\n",
      " [ 7.    0.27  0.36 ...  3.    0.45  8.8 ]\n",
      " [ 8.1   0.22  0.43 ...  3.22  0.45 11.  ]\n",
      " ...\n",
      " [ 6.8   0.22  0.36 ...  3.04  0.54  9.2 ]\n",
      " [ 6.1   0.34  0.29 ...  3.06  0.44 11.8 ]\n",
      " [ 6.5   0.23  0.38 ...  3.29  0.54  9.7 ]]\n",
      "y: \n",
      " [6 6 6 ... 5 6 5]\n"
     ]
    }
   ],
   "source": [
    "z=data.quality.unique()\n",
    "print(\"Class:\\n\",z)\n",
    "X = data.iloc[:, :-1].values\n",
    "print(\"X: \\n\", X)\n",
    "y = data.iloc[:, 11].values\n",
    "print(\"y: \\n\", y)"
   ]
  },
  {
   "cell_type": "code",
   "execution_count": 11,
   "metadata": {},
   "outputs": [],
   "source": [
    "# KNN model - NO CROSS VALUATION\n",
    "X_train, X_test, y_train, y_test = train_test_split(X, y, random_state=0, test_size=0.20)"
   ]
  },
  {
   "cell_type": "code",
   "execution_count": 26,
   "metadata": {},
   "outputs": [
    {
     "data": {
      "text/plain": [
       "KNeighborsClassifier(algorithm='auto', leaf_size=30, metric='minkowski',\n",
       "                     metric_params=None, n_jobs=None, n_neighbors=5, p=2,\n",
       "                     weights='uniform')"
      ]
     },
     "execution_count": 26,
     "metadata": {},
     "output_type": "execute_result"
    }
   ],
   "source": [
    "from sklearn.neighbors import KNeighborsClassifier\n",
    "classifier = KNeighborsClassifier(n_neighbors=5)\n",
    "classifier.fit(X_train, y_train)"
   ]
  },
  {
   "cell_type": "code",
   "execution_count": 27,
   "metadata": {},
   "outputs": [],
   "source": [
    "#Testing kNN Model\n",
    "y_pred = classifier.predict(X_test)"
   ]
  },
  {
   "cell_type": "code",
   "execution_count": 30,
   "metadata": {},
   "outputs": [
    {
     "name": "stdout",
     "output_type": "stream",
     "text": [
      "[[  0   0   2   1   0   0   0   0]\n",
      " [  0   4   6   4   1   0   0   0]\n",
      " [  0   2  65  86  15   2   0   0]\n",
      " [  0   2  59 120  25   4   0   0]\n",
      " [  0   1  17  35  19   1   0   0]\n",
      " [  0   0   5   9   3   0   0   0]\n",
      " [  0   0   0   1   0   0   0   0]\n",
      " [  0   0   0   1   0   0   0   0]]\n",
      "              precision    recall  f1-score   support\n",
      "\n",
      "           3       0.00      0.00      0.00         3\n",
      "           4       0.44      0.27      0.33        15\n",
      "           5       0.42      0.38      0.40       170\n",
      "           6       0.47      0.57      0.51       210\n",
      "           7       0.30      0.26      0.28        73\n",
      "           8       0.00      0.00      0.00        17\n",
      "           9       0.00      0.00      0.00         1\n",
      "          11       0.00      0.00      0.00         1\n",
      "\n",
      "    accuracy                           0.42       490\n",
      "   macro avg       0.20      0.19      0.19       490\n",
      "weighted avg       0.41      0.42      0.41       490\n",
      "\n",
      "Training accuracy:  0.42448979591836733\n"
     ]
    },
    {
     "name": "stderr",
     "output_type": "stream",
     "text": [
      "C:\\Users\\bhoin\\Anaconda3\\lib\\site-packages\\sklearn\\metrics\\classification.py:1437: UndefinedMetricWarning: Precision and F-score are ill-defined and being set to 0.0 in labels with no predicted samples.\n",
      "  'precision', 'predicted', average, warn_for)\n",
      "C:\\Users\\bhoin\\Anaconda3\\lib\\site-packages\\sklearn\\metrics\\classification.py:1437: UndefinedMetricWarning: Precision and F-score are ill-defined and being set to 0.0 in labels with no predicted samples.\n",
      "  'precision', 'predicted', average, warn_for)\n",
      "C:\\Users\\bhoin\\Anaconda3\\lib\\site-packages\\sklearn\\metrics\\classification.py:1437: UndefinedMetricWarning: Precision and F-score are ill-defined and being set to 0.0 in labels with no predicted samples.\n",
      "  'precision', 'predicted', average, warn_for)\n"
     ]
    }
   ],
   "source": [
    "from sklearn.metrics import classification_report, confusion_matrix\n",
    "import warnings\n",
    "warnings.filterwarnings('always')\n",
    "print(confusion_matrix(y_test, y_pred))\n",
    "print(classification_report(y_test, y_pred))\n",
    "\n",
    "from sklearn import metrics\n",
    "print(\"Training accuracy: \",metrics.accuracy_score(y_test, y_pred))"
   ]
  },
  {
   "cell_type": "code",
   "execution_count": 31,
   "metadata": {},
   "outputs": [],
   "source": [
    "#  Part 4 – Cross validation\n",
    "from sklearn.model_selection import KFold\n",
    "from sklearn import model_selection\n",
    "kfold = model_selection.KFold(n_splits=10, random_state=100)\n",
    "classifier = KNeighborsClassifier(n_neighbors=4)\n",
    "x1 = data.iloc[:, :-1].values\n",
    "y1 = data.iloc[:, 11].values\n",
    "results_kfold = model_selection.cross_val_score(classifier, x1, y1, cv=kfold,scoring='accuracy')"
   ]
  },
  {
   "cell_type": "code",
   "execution_count": 32,
   "metadata": {},
   "outputs": [
    {
     "name": "stdout",
     "output_type": "stream",
     "text": [
      "[0.38367347 0.44081633 0.49795918 0.3755102  0.35102041 0.42040816\n",
      " 0.37959184 0.47346939 0.46122449 0.45714286]\n",
      "0.4240816326530612\n"
     ]
    }
   ],
   "source": [
    "print(results_kfold)\n",
    "print(results_kfold.mean())"
   ]
  },
  {
   "cell_type": "code",
   "execution_count": 34,
   "metadata": {},
   "outputs": [
    {
     "name": "stdout",
     "output_type": "stream",
     "text": [
      "[1, 2, 3, 4, 5, 6, 7, 8, 9, 10, 11, 12, 13, 14]\n",
      "{'n_neighbors': [1, 2, 3, 4, 5, 6, 7, 8, 9, 10, 11, 12, 13, 14]}\n"
     ]
    },
    {
     "name": "stderr",
     "output_type": "stream",
     "text": [
      "C:\\Users\\bhoin\\Anaconda3\\lib\\site-packages\\sklearn\\model_selection\\_split.py:657: Warning: The least populated class in y has only 1 members, which is too few. The minimum number of members in any class cannot be less than n_splits=10.\n",
      "  % (min_groups, self.n_splits)), Warning)\n",
      "C:\\Users\\bhoin\\Anaconda3\\lib\\site-packages\\sklearn\\model_selection\\_search.py:813: DeprecationWarning: The default of the `iid` parameter will change from True to False in version 0.22 and will be removed in 0.24. This will change numeric results when test-set sizes are unequal.\n",
      "  DeprecationWarning)\n"
     ]
    },
    {
     "data": {
      "text/plain": [
       "GridSearchCV(cv=10, error_score='raise-deprecating',\n",
       "             estimator=KNeighborsClassifier(algorithm='auto', leaf_size=30,\n",
       "                                            metric='minkowski',\n",
       "                                            metric_params=None, n_jobs=None,\n",
       "                                            n_neighbors=4, p=2,\n",
       "                                            weights='uniform'),\n",
       "             iid='warn', n_jobs=None,\n",
       "             param_grid={'n_neighbors': [1, 2, 3, 4, 5, 6, 7, 8, 9, 10, 11, 12,\n",
       "                                         13, 14]},\n",
       "             pre_dispatch='2*n_jobs', refit=True, return_train_score=False,\n",
       "             scoring='accuracy', verbose=0)"
      ]
     },
     "execution_count": 34,
     "metadata": {},
     "output_type": "execute_result"
    }
   ],
   "source": [
    "#Part 5 - Optimizing  n-neighbor parameter \n",
    "from sklearn.model_selection import GridSearchCV\n",
    "k_range = list(range(1, 15))\n",
    "print(k_range)\n",
    "\n",
    "param_grid = dict(n_neighbors=k_range)\n",
    "print(param_grid)\n",
    "\n",
    "grid = GridSearchCV(classifier, param_grid, cv=10, scoring='accuracy')\n",
    "grid.fit(x1, y1)"
   ]
  },
  {
   "cell_type": "code",
   "execution_count": 35,
   "metadata": {},
   "outputs": [
    {
     "data": {
      "text/plain": [
       "{'mean_fit_time': array([0.00318842, 0.00321476, 0.00398357, 0.0031846 , 0.00243556,\n",
       "        0.00646975, 0.00426681, 0.00416377, 0.00386519, 0.0039331 ,\n",
       "        0.00306644, 0.00455058, 0.00385077, 0.00263941]),\n",
       " 'std_fit_time': array([0.00101747, 0.00045705, 0.00051278, 0.00092857, 0.0006398 ,\n",
       "        0.00612131, 0.0012933 , 0.00125   , 0.00061369, 0.00047933,\n",
       "        0.00137367, 0.00081951, 0.00144579, 0.00167863]),\n",
       " 'mean_score_time': array([0.01819198, 0.01909075, 0.02117524, 0.01730154, 0.01940684,\n",
       "        0.02925842, 0.02385502, 0.02923055, 0.02196505, 0.03108683,\n",
       "        0.01643548, 0.03193364, 0.02475336, 0.01996775]),\n",
       " 'std_score_time': array([0.00582285, 0.00849625, 0.00514233, 0.00389197, 0.01069327,\n",
       "        0.00583166, 0.00786003, 0.00825701, 0.00385013, 0.00552091,\n",
       "        0.00691687, 0.00382568, 0.00918101, 0.00886227]),\n",
       " 'param_n_neighbors': masked_array(data=[1, 2, 3, 4, 5, 6, 7, 8, 9, 10, 11, 12, 13, 14],\n",
       "              mask=[False, False, False, False, False, False, False, False,\n",
       "                    False, False, False, False, False, False],\n",
       "        fill_value='?',\n",
       "             dtype=object),\n",
       " 'params': [{'n_neighbors': 1},\n",
       "  {'n_neighbors': 2},\n",
       "  {'n_neighbors': 3},\n",
       "  {'n_neighbors': 4},\n",
       "  {'n_neighbors': 5},\n",
       "  {'n_neighbors': 6},\n",
       "  {'n_neighbors': 7},\n",
       "  {'n_neighbors': 8},\n",
       "  {'n_neighbors': 9},\n",
       "  {'n_neighbors': 10},\n",
       "  {'n_neighbors': 11},\n",
       "  {'n_neighbors': 12},\n",
       "  {'n_neighbors': 13},\n",
       "  {'n_neighbors': 14}],\n",
       " 'split0_test_score': array([0.43027888, 0.39840637, 0.39442231, 0.37051793, 0.39442231,\n",
       "        0.42231076, 0.42629482, 0.41035857, 0.39840637, 0.41832669,\n",
       "        0.41832669, 0.41035857, 0.39840637, 0.40239044]),\n",
       " 'split1_test_score': array([0.46370968, 0.44758065, 0.4233871 , 0.45564516, 0.43951613,\n",
       "        0.40725806, 0.43951613, 0.43145161, 0.43548387, 0.39919355,\n",
       "        0.41532258, 0.41532258, 0.40322581, 0.44354839]),\n",
       " 'split2_test_score': array([0.49593496, 0.44308943, 0.45121951, 0.46747967, 0.44715447,\n",
       "        0.45934959, 0.43902439, 0.41463415, 0.43902439, 0.42276423,\n",
       "        0.45528455, 0.44308943, 0.44308943, 0.45121951]),\n",
       " 'split3_test_score': array([0.42682927, 0.39837398, 0.36178862, 0.3699187 , 0.3902439 ,\n",
       "        0.39837398, 0.39837398, 0.37398374, 0.36585366, 0.40650407,\n",
       "        0.3699187 , 0.37398374, 0.38211382, 0.38211382]),\n",
       " 'split4_test_score': array([0.38934426, 0.38114754, 0.42622951, 0.42213115, 0.42213115,\n",
       "        0.42213115, 0.43032787, 0.40983607, 0.41803279, 0.42213115,\n",
       "        0.43032787, 0.42213115, 0.39344262, 0.39754098]),\n",
       " 'split5_test_score': array([0.41803279, 0.37704918, 0.37295082, 0.41803279, 0.37704918,\n",
       "        0.36885246, 0.3852459 , 0.37704918, 0.4057377 , 0.39344262,\n",
       "        0.40163934, 0.3647541 , 0.37295082, 0.36885246]),\n",
       " 'split6_test_score': array([0.43032787, 0.36065574, 0.38934426, 0.3647541 , 0.42213115,\n",
       "        0.36065574, 0.38934426, 0.41393443, 0.40163934, 0.42213115,\n",
       "        0.43032787, 0.43442623, 0.44672131, 0.44262295]),\n",
       " 'split7_test_score': array([0.47736626, 0.50617284, 0.47736626, 0.50617284, 0.51028807,\n",
       "        0.48559671, 0.46502058, 0.49382716, 0.46502058, 0.46090535,\n",
       "        0.46090535, 0.44444444, 0.47325103, 0.47325103]),\n",
       " 'split8_test_score': array([0.45041322, 0.45867769, 0.42975207, 0.46280992, 0.42975207,\n",
       "        0.4214876 , 0.42975207, 0.43801653, 0.43801653, 0.47520661,\n",
       "        0.47933884, 0.47933884, 0.45454545, 0.45041322]),\n",
       " 'split9_test_score': array([0.44214876, 0.42561983, 0.43801653, 0.42561983, 0.44214876,\n",
       "        0.46694215, 0.4214876 , 0.41735537, 0.47520661, 0.4214876 ,\n",
       "        0.4214876 , 0.4338843 , 0.45454545, 0.45041322]),\n",
       " 'mean_test_score': array([0.44244898, 0.41959184, 0.41632653, 0.42612245, 0.42734694,\n",
       "        0.42122449, 0.42244898, 0.41795918, 0.42408163, 0.42408163,\n",
       "        0.42816327, 0.42204082, 0.42204082, 0.42612245]),\n",
       " 'std_test_score': array([0.02923582, 0.04239443, 0.03433031, 0.04522857, 0.03557471,\n",
       "        0.03839659, 0.02355988, 0.03170431, 0.03121625, 0.02418413,\n",
       "        0.02969012, 0.03201509, 0.03389039, 0.03343841]),\n",
       " 'rank_test_score': array([ 1, 12, 14,  4,  3, 11,  8, 13,  6,  6,  2,  9,  9,  4])}"
      ]
     },
     "execution_count": 35,
     "metadata": {},
     "output_type": "execute_result"
    }
   ],
   "source": [
    "# view the complete results (list of named tuples)\n",
    "grid.cv_results_"
   ]
  },
  {
   "cell_type": "code",
   "execution_count": 40,
   "metadata": {},
   "outputs": [
    {
     "name": "stdout",
     "output_type": "stream",
     "text": [
      "[0.44244898 0.41959184 0.41632653 0.42612245 0.42734694 0.42122449\n",
      " 0.42244898 0.41795918 0.42408163 0.42408163 0.42816327 0.42204082\n",
      " 0.42204082 0.42612245]\n"
     ]
    }
   ],
   "source": [
    "# create a list of the mean scores only\n",
    "# list comprehension to loop through grid.cv_results_\n",
    "grid_mean_scores = grid.cv_results_[\"mean_test_score\"]\n",
    "print(grid_mean_scores)"
   ]
  },
  {
   "cell_type": "code",
   "execution_count": 41,
   "metadata": {},
   "outputs": [
    {
     "data": {
      "text/plain": [
       "Text(0, 0.5, 'Cross-Validated Accuracy')"
      ]
     },
     "execution_count": 41,
     "metadata": {},
     "output_type": "execute_result"
    },
    {
     "data": {
      "image/png": "[encoded data removed]",
      "text/plain": [
       "<Figure size 432x288 with 1 Axes>"
      ]
     },
     "metadata": {
      "needs_background": "light"
     },
     "output_type": "display_data"
    }
   ],
   "source": [
    "import matplotlib.pyplot as plt\n",
    "%matplotlib inline\n",
    "plt.plot(k_range, grid_mean_scores)\n",
    "plt.xlabel('Value of K for KNN')\n",
    "plt.ylabel('Cross-Validated Accuracy')"
   ]
  },
  {
   "cell_type": "code",
   "execution_count": 42,
   "metadata": {},
   "outputs": [
    {
     "name": "stdout",
     "output_type": "stream",
     "text": [
      "0.4424489795918367\n",
      "{'n_neighbors': 1}\n",
      "KNeighborsClassifier(algorithm='auto', leaf_size=30, metric='minkowski',\n",
      "                     metric_params=None, n_jobs=None, n_neighbors=1, p=2,\n",
      "                     weights='uniform')\n"
     ]
    }
   ],
   "source": [
    "# examine the best model\n",
    "\n",
    "# Single best score achieved across all params (k)\n",
    "print(grid.best_score_)\n",
    "\n",
    "# Dictionary containing the parameters (k) used to generate that score\n",
    "print(grid.best_params_)\n",
    "\n",
    "# Actual model object fit with those best parameters\n",
    "# Shows default parameters that we did not specify\n",
    "print(grid.best_estimator_)"
   ]
  },
  {
   "cell_type": "code",
   "execution_count": 10,
   "metadata": {},
   "outputs": [
    {
     "name": "stdout",
     "output_type": "stream",
     "text": [
      "scores:  [0.4        0.41260163 0.39059305 0.42827869 0.42592593]\n",
      "Accuracy: 0.41 (+/- 0.03)\n"
     ]
    },
    {
     "name": "stderr",
     "output_type": "stream",
     "text": [
      "/Users/chinhnguyen/opt/anaconda3/lib/python3.7/site-packages/sklearn/model_selection/_split.py:657: Warning: The least populated class in y has only 1 members, which is too few. The minimum number of members in any class cannot be less than n_splits=5.\n",
      "  % (min_groups, self.n_splits)), Warning)\n"
     ]
    }
   ],
   "source": [
    "# KNN model - WITH CROSS VALUATION\n",
    "scores = cross_val_score(classifier, X, y, cv=T)\n",
    "print(\"scores: \", scores)\n",
    "print(\"Accuracy: %0.2f (+/- %0.2f)\" % (scores.mean(), scores.std() * 2))"
   ]
  },
  {
   "cell_type": "code",
   "execution_count": 11,
   "metadata": {},
   "outputs": [
    {
     "name": "stdout",
     "output_type": "stream",
     "text": [
      "param_grid:  {'n_neighbors': array([ 1,  2,  3,  4,  5,  6,  7,  8,  9, 10, 11, 12, 13, 14, 15, 16, 17,\n",
      "       18, 19, 20, 21, 22, 23, 24, 25])}\n",
      "X: \n",
      " [[ 7.2   0.23  0.32 ...  3.19  0.4   9.9 ]\n",
      " [ 7.    0.27  0.36 ...  3.    0.45  8.8 ]\n",
      " [ 8.1   0.22  0.43 ...  3.22  0.45 11.  ]\n",
      " ...\n",
      " [ 6.8   0.22  0.36 ...  3.04  0.54  9.2 ]\n",
      " [ 6.1   0.34  0.29 ...  3.06  0.44 11.8 ]\n",
      " [ 6.5   0.23  0.38 ...  3.29  0.54  9.7 ]]\n",
      "y: \n",
      " [6 6 6 ... 5 6 5]\n"
     ]
    },
    {
     "name": "stderr",
     "output_type": "stream",
     "text": [
      "/Users/chinhnguyen/opt/anaconda3/lib/python3.7/site-packages/sklearn/model_selection/_split.py:657: Warning: The least populated class in y has only 1 members, which is too few. The minimum number of members in any class cannot be less than n_splits=5.\n",
      "  % (min_groups, self.n_splits)), Warning)\n"
     ]
    },
    {
     "data": {
      "text/plain": [
       "GridSearchCV(cv=5, error_score='raise-deprecating',\n",
       "             estimator=KNeighborsClassifier(algorithm='auto', leaf_size=30,\n",
       "                                            metric='minkowski',\n",
       "                                            metric_params=None, n_jobs=None,\n",
       "                                            n_neighbors=5, p=2,\n",
       "                                            weights='uniform'),\n",
       "             iid='warn', n_jobs=None,\n",
       "             param_grid={'n_neighbors': array([ 1,  2,  3,  4,  5,  6,  7,  8,  9, 10, 11, 12, 13, 14, 15, 16, 17,\n",
       "       18, 19, 20, 21, 22, 23, 24, 25])},\n",
       "             pre_dispatch='2*n_jobs', refit=True, return_train_score=False,\n",
       "             scoring='accuracy', verbose=0)"
      ]
     },
     "execution_count": 11,
     "metadata": {},
     "output_type": "execute_result"
    }
   ],
   "source": [
    "# KNN model - WITH gridSearchCV\n",
    "param_grid = dict(n_neighbors=np.arange(R1, R2+1)) # inclusive\n",
    "print(\"param_grid: \", param_grid)\n",
    "from sklearn.model_selection import GridSearchCV\n",
    "\n",
    "clf = GridSearchCV(KNeighborsClassifier(), param_grid, cv=T, scoring=\"accuracy\")\n",
    "print(\"X: \\n\", X)\n",
    "print(\"y: \\n\", y)\n",
    "clf.fit(X, y)"
   ]
  },
  {
   "cell_type": "code",
   "execution_count": 12,
   "metadata": {},
   "outputs": [
    {
     "data": {
      "text/plain": [
       "array([0.44367347, 0.42285714, 0.41142857, 0.42      , 0.42081633,\n",
       "       0.42285714, 0.42122449, 0.42489796, 0.42122449, 0.42612245,\n",
       "       0.4322449 , 0.42693878, 0.42693878, 0.43061224, 0.42938776,\n",
       "       0.43469388, 0.43755102, 0.43469388, 0.43387755, 0.42408163,\n",
       "       0.42979592, 0.42897959, 0.43510204, 0.43714286, 0.4477551 ])"
      ]
     },
     "execution_count": 12,
     "metadata": {},
     "output_type": "execute_result"
    }
   ],
   "source": [
    "clf.cv_results_['mean_test_score']"
   ]
  },
  {
   "cell_type": "code",
   "execution_count": 20,
   "metadata": {},
   "outputs": [
    {
     "data": {
      "text/html": [
       "<div>\n",
       "<style scoped>\n",
       "    .dataframe tbody tr th:only-of-type {\n",
       "        vertical-align: middle;\n",
       "    }\n",
       "\n",
       "    .dataframe tbody tr th {\n",
       "        vertical-align: top;\n",
       "    }\n",
       "\n",
       "    .dataframe thead th {\n",
       "        text-align: right;\n",
       "    }\n",
       "</style>\n",
       "<table border=\"1\" class=\"dataframe\">\n",
       "  <thead>\n",
       "    <tr style=\"text-align: right;\">\n",
       "      <th></th>\n",
       "      <th>param_n_neighbors</th>\n",
       "      <th>mean_test_score</th>\n",
       "      <th>std_test_score</th>\n",
       "    </tr>\n",
       "    <tr>\n",
       "      <th>rank_test_score</th>\n",
       "      <th></th>\n",
       "      <th></th>\n",
       "      <th></th>\n",
       "    </tr>\n",
       "  </thead>\n",
       "  <tbody>\n",
       "    <tr>\n",
       "      <td>1</td>\n",
       "      <td>25</td>\n",
       "      <td>0.447755</td>\n",
       "      <td>0.020341</td>\n",
       "    </tr>\n",
       "    <tr>\n",
       "      <td>2</td>\n",
       "      <td>1</td>\n",
       "      <td>0.443673</td>\n",
       "      <td>0.022685</td>\n",
       "    </tr>\n",
       "    <tr>\n",
       "      <td>3</td>\n",
       "      <td>17</td>\n",
       "      <td>0.437551</td>\n",
       "      <td>0.026761</td>\n",
       "    </tr>\n",
       "    <tr>\n",
       "      <td>4</td>\n",
       "      <td>24</td>\n",
       "      <td>0.437143</td>\n",
       "      <td>0.024565</td>\n",
       "    </tr>\n",
       "    <tr>\n",
       "      <td>5</td>\n",
       "      <td>23</td>\n",
       "      <td>0.435102</td>\n",
       "      <td>0.023254</td>\n",
       "    </tr>\n",
       "    <tr>\n",
       "      <td>6</td>\n",
       "      <td>18</td>\n",
       "      <td>0.434694</td>\n",
       "      <td>0.022896</td>\n",
       "    </tr>\n",
       "    <tr>\n",
       "      <td>6</td>\n",
       "      <td>16</td>\n",
       "      <td>0.434694</td>\n",
       "      <td>0.019856</td>\n",
       "    </tr>\n",
       "    <tr>\n",
       "      <td>8</td>\n",
       "      <td>19</td>\n",
       "      <td>0.433878</td>\n",
       "      <td>0.019987</td>\n",
       "    </tr>\n",
       "    <tr>\n",
       "      <td>9</td>\n",
       "      <td>11</td>\n",
       "      <td>0.432245</td>\n",
       "      <td>0.027673</td>\n",
       "    </tr>\n",
       "    <tr>\n",
       "      <td>10</td>\n",
       "      <td>14</td>\n",
       "      <td>0.430612</td>\n",
       "      <td>0.018633</td>\n",
       "    </tr>\n",
       "    <tr>\n",
       "      <td>11</td>\n",
       "      <td>21</td>\n",
       "      <td>0.429796</td>\n",
       "      <td>0.028390</td>\n",
       "    </tr>\n",
       "    <tr>\n",
       "      <td>12</td>\n",
       "      <td>15</td>\n",
       "      <td>0.429388</td>\n",
       "      <td>0.016799</td>\n",
       "    </tr>\n",
       "    <tr>\n",
       "      <td>13</td>\n",
       "      <td>22</td>\n",
       "      <td>0.428980</td>\n",
       "      <td>0.028667</td>\n",
       "    </tr>\n",
       "    <tr>\n",
       "      <td>14</td>\n",
       "      <td>13</td>\n",
       "      <td>0.426939</td>\n",
       "      <td>0.025925</td>\n",
       "    </tr>\n",
       "    <tr>\n",
       "      <td>14</td>\n",
       "      <td>12</td>\n",
       "      <td>0.426939</td>\n",
       "      <td>0.017592</td>\n",
       "    </tr>\n",
       "    <tr>\n",
       "      <td>16</td>\n",
       "      <td>10</td>\n",
       "      <td>0.426122</td>\n",
       "      <td>0.022257</td>\n",
       "    </tr>\n",
       "    <tr>\n",
       "      <td>17</td>\n",
       "      <td>8</td>\n",
       "      <td>0.424898</td>\n",
       "      <td>0.022216</td>\n",
       "    </tr>\n",
       "    <tr>\n",
       "      <td>18</td>\n",
       "      <td>20</td>\n",
       "      <td>0.424082</td>\n",
       "      <td>0.027790</td>\n",
       "    </tr>\n",
       "    <tr>\n",
       "      <td>19</td>\n",
       "      <td>6</td>\n",
       "      <td>0.422857</td>\n",
       "      <td>0.014096</td>\n",
       "    </tr>\n",
       "    <tr>\n",
       "      <td>19</td>\n",
       "      <td>2</td>\n",
       "      <td>0.422857</td>\n",
       "      <td>0.023831</td>\n",
       "    </tr>\n",
       "    <tr>\n",
       "      <td>21</td>\n",
       "      <td>9</td>\n",
       "      <td>0.421224</td>\n",
       "      <td>0.011506</td>\n",
       "    </tr>\n",
       "    <tr>\n",
       "      <td>21</td>\n",
       "      <td>7</td>\n",
       "      <td>0.421224</td>\n",
       "      <td>0.023026</td>\n",
       "    </tr>\n",
       "    <tr>\n",
       "      <td>23</td>\n",
       "      <td>5</td>\n",
       "      <td>0.420816</td>\n",
       "      <td>0.024318</td>\n",
       "    </tr>\n",
       "    <tr>\n",
       "      <td>24</td>\n",
       "      <td>4</td>\n",
       "      <td>0.420000</td>\n",
       "      <td>0.011275</td>\n",
       "    </tr>\n",
       "    <tr>\n",
       "      <td>25</td>\n",
       "      <td>3</td>\n",
       "      <td>0.411429</td>\n",
       "      <td>0.014545</td>\n",
       "    </tr>\n",
       "  </tbody>\n",
       "</table>\n",
       "</div>"
      ],
      "text/plain": [
       "                param_n_neighbors  mean_test_score  std_test_score\n",
       "rank_test_score                                                   \n",
       "1                              25         0.447755        0.020341\n",
       "2                               1         0.443673        0.022685\n",
       "3                              17         0.437551        0.026761\n",
       "4                              24         0.437143        0.024565\n",
       "5                              23         0.435102        0.023254\n",
       "6                              18         0.434694        0.022896\n",
       "6                              16         0.434694        0.019856\n",
       "8                              19         0.433878        0.019987\n",
       "9                              11         0.432245        0.027673\n",
       "10                             14         0.430612        0.018633\n",
       "11                             21         0.429796        0.028390\n",
       "12                             15         0.429388        0.016799\n",
       "13                             22         0.428980        0.028667\n",
       "14                             13         0.426939        0.025925\n",
       "14                             12         0.426939        0.017592\n",
       "16                             10         0.426122        0.022257\n",
       "17                              8         0.424898        0.022216\n",
       "18                             20         0.424082        0.027790\n",
       "19                              6         0.422857        0.014096\n",
       "19                              2         0.422857        0.023831\n",
       "21                              9         0.421224        0.011506\n",
       "21                              7         0.421224        0.023026\n",
       "23                              5         0.420816        0.024318\n",
       "24                              4         0.420000        0.011275\n",
       "25                              3         0.411429        0.014545"
      ]
     },
     "execution_count": 20,
     "metadata": {},
     "output_type": "execute_result"
    }
   ],
   "source": [
    "grid_df = pd.DataFrame(clf.cv_results_).sort_values(\n",
    "        by=['rank_test_score']).set_index('rank_test_score')\n",
    "display_cols = ['param_n_neighbors', \"mean_test_score\", \"std_test_score\"]\n",
    "\n",
    "grid_df[display_cols]"
   ]
  },
  {
   "cell_type": "code",
   "execution_count": 15,
   "metadata": {},
   "outputs": [
    {
     "name": "stdout",
     "output_type": "stream",
     "text": [
      "best score:  0.4477551020408163\n",
      "best param:  {'n_neighbors': 25}\n",
      "best estimator:  KNeighborsClassifier(algorithm='auto', leaf_size=30, metric='minkowski',\n",
      "                     metric_params=None, n_jobs=None, n_neighbors=25, p=2,\n",
      "                     weights='uniform')\n",
      "Best accuracy: 0.45 (+/- 0.04) when k = 25\n"
     ]
    }
   ],
   "source": [
    "print(\"best score: \", clf.best_score_)\n",
    "print(\"best param: \", clf.best_params_)\n",
    "print(\"best estimator: \", clf.best_estimator_)\n",
    "\n",
    "best_line = { key : clf.cv_results_[key][clf.best_index_] for key in clf.cv_results_.keys() }\n",
    "print(\"Best accuracy: %0.2f (+/- %0.2f) when k = %.0f\" %\n",
    "      (best_line['mean_test_score'], best_line['std_test_score'] * 2, best_line['param_n_neighbors']))"
   ]
  }
 ],
 "metadata": {
  "kernelspec": {
   "display_name": "Python 3",
   "language": "python",
   "name": "python3"
  },
  "language_info": {
   "codemirror_mode": {
    "name": "ipython",
    "version": 3
   },
   "file_extension": ".py",
   "mimetype": "text/x-python",
   "name": "python",
   "nbconvert_exporter": "python",
   "pygments_lexer": "ipython3",
   "version": "3.7.4"
  }
 },
 "nbformat": 4,
 "nbformat_minor": 2
}
