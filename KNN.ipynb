{
 "cells": [
  {
   "cell_type": "code",
   "execution_count": 1,
   "metadata": {},
   "outputs": [],
   "source": [
    "import re\n",
    "import csv\n",
    "import pandas as pd"
   ]
  },
  {
   "cell_type": "code",
   "execution_count": 30,
   "metadata": {},
   "outputs": [],
   "source": [
    "### CONSTANTS ###\n",
    "DATA_LINE = 15\n",
    "ORIGINAL_FILENAME = \"wine_quality.csv\"\n",
    "FILENAME = \"wine_quality_cleaned.csv\""
   ]
  },
  {
   "cell_type": "code",
   "execution_count": 31,
   "metadata": {},
   "outputs": [],
   "source": [
    "### CLEAN CSV FILE - ONLY RUN ONCE TO GET CLEANED CSV ###\n",
    "file = open('{}'.format(ORIGINAL_FILENAME), \"r\")\n",
    "\n",
    "fieldnames = []\n",
    "for i in range(0, DATA_LINE-1):\n",
    "    line = file.readline()\n",
    "    m = re.search('(?<=@attribute )(.+)(?= \\w+)', line)\n",
    "    if (m):\n",
    "        fieldnames.append(m.group(0))\n",
    "\n",
    "with open('{}'.format(FILENAME), \"w\", newline=\"\") as clean_csv:\n",
    "    clean_csv.write(','.join(fieldnames) + \"\\n\")\n",
    "    for line in file:\n",
    "        clean_csv.write(file.readline())\n",
    "\n",
    "file.close()"
   ]
  },
  {
   "cell_type": "code",
   "execution_count": 33,
   "metadata": {},
   "outputs": [
    {
     "data": {
      "text/html": [
       "<div>\n",
       "<style scoped>\n",
       "    .dataframe tbody tr th:only-of-type {\n",
       "        vertical-align: middle;\n",
       "    }\n",
       "\n",
       "    .dataframe tbody tr th {\n",
       "        vertical-align: top;\n",
       "    }\n",
       "\n",
       "    .dataframe thead th {\n",
       "        text-align: right;\n",
       "    }\n",
       "</style>\n",
       "<table border=\"1\" class=\"dataframe\">\n",
       "  <thead>\n",
       "    <tr style=\"text-align: right;\">\n",
       "      <th></th>\n",
       "      <th>0</th>\n",
       "    </tr>\n",
       "  </thead>\n",
       "  <tbody>\n",
       "    <tr>\n",
       "      <th>0</th>\n",
       "      <td>fixedacid,volacid,citricacid,residualsugar,chl...</td>\n",
       "    </tr>\n",
       "    <tr>\n",
       "      <th>1</th>\n",
       "      <td>7.2,0.23,0.32,8.5,0.058,47,186,0.9956,3.19,0.4...</td>\n",
       "    </tr>\n",
       "    <tr>\n",
       "      <th>2</th>\n",
       "      <td>7,0.27,0.36,20.7,0.045,45,170,1.001,3,0.45,8.8,6</td>\n",
       "    </tr>\n",
       "    <tr>\n",
       "      <th>3</th>\n",
       "      <td>8.1,0.22,0.43,1.5,0.044,28,129,0.9938,3.22,0.4...</td>\n",
       "    </tr>\n",
       "    <tr>\n",
       "      <th>4</th>\n",
       "      <td>8.6,0.23,0.4,4.2,0.035,17,109,0.9947,3.14,0.53...</td>\n",
       "    </tr>\n",
       "    <tr>\n",
       "      <th>...</th>\n",
       "      <td>...</td>\n",
       "    </tr>\n",
       "    <tr>\n",
       "      <th>2446</th>\n",
       "      <td>6.5,0.33,0.38,8.3,0.035,60,148,0.98964,3.27,0....</td>\n",
       "    </tr>\n",
       "    <tr>\n",
       "      <th>2447</th>\n",
       "      <td>6.6,0.34,0.4,8.1,0.046,68,170,0.99494,3.15,0.5...</td>\n",
       "    </tr>\n",
       "    <tr>\n",
       "      <th>2448</th>\n",
       "      <td>6.8,0.22,0.36,1.2,0.052,38,127,0.9933,3.04,0.5...</td>\n",
       "    </tr>\n",
       "    <tr>\n",
       "      <th>2449</th>\n",
       "      <td>6.1,0.34,0.29,2.2,0.036,25,100,0.98938,3.06,0....</td>\n",
       "    </tr>\n",
       "    <tr>\n",
       "      <th>2450</th>\n",
       "      <td>6.5,0.23,0.38,1.3,0.032,29,112,0.99298,3.29,0....</td>\n",
       "    </tr>\n",
       "  </tbody>\n",
       "</table>\n",
       "<p>2451 rows × 1 columns</p>\n",
       "</div>"
      ],
      "text/plain": [
       "                                                      0\n",
       "0     fixedacid,volacid,citricacid,residualsugar,chl...\n",
       "1     7.2,0.23,0.32,8.5,0.058,47,186,0.9956,3.19,0.4...\n",
       "2      7,0.27,0.36,20.7,0.045,45,170,1.001,3,0.45,8.8,6\n",
       "3     8.1,0.22,0.43,1.5,0.044,28,129,0.9938,3.22,0.4...\n",
       "4     8.6,0.23,0.4,4.2,0.035,17,109,0.9947,3.14,0.53...\n",
       "...                                                 ...\n",
       "2446  6.5,0.33,0.38,8.3,0.035,60,148,0.98964,3.27,0....\n",
       "2447  6.6,0.34,0.4,8.1,0.046,68,170,0.99494,3.15,0.5...\n",
       "2448  6.8,0.22,0.36,1.2,0.052,38,127,0.9933,3.04,0.5...\n",
       "2449  6.1,0.34,0.29,2.2,0.036,25,100,0.98938,3.06,0....\n",
       "2450  6.5,0.23,0.38,1.3,0.032,29,112,0.99298,3.29,0....\n",
       "\n",
       "[2451 rows x 1 columns]"
      ]
     },
     "execution_count": 33,
     "metadata": {},
     "output_type": "execute_result"
    }
   ],
   "source": [
    "# data = pd.read_csv('{}'.format(FILENAME),sep=\"delimiter\",header=None,engine='python')\n",
    "data = pd.read_csv\n",
    "data"
   ]
  },
  {
   "cell_type": "code",
   "execution_count": null,
   "metadata": {},
   "outputs": [],
   "source": []
  }
 ],
 "metadata": {
  "kernelspec": {
   "display_name": "Python 3",
   "language": "python",
   "name": "python3"
  },
  "language_info": {
   "codemirror_mode": {
    "name": "ipython",
    "version": 3
   },
   "file_extension": ".py",
   "mimetype": "text/x-python",
   "name": "python",
   "nbconvert_exporter": "python",
   "pygments_lexer": "ipython3",
   "version": "3.8.1"
  }
 },
 "nbformat": 4,
 "nbformat_minor": 2
}
